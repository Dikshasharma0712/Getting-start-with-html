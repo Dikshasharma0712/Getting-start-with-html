{
  "nbformat": 4,
  "nbformat_minor": 0,
  "metadata": {
    "colab": {
      "provenance": []
    },
    "kernelspec": {
      "name": "python3",
      "display_name": "Python 3"
    },
    "language_info": {
      "name": "python"
    }
  },
  "cells": [
    {
      "cell_type": "markdown",
      "source": [
        "# Getting Started with html\n"
      ],
      "metadata": {
        "id": "4CdDF5ohC28I"
      }
    },
    {
      "cell_type": "markdown",
      "source": [
        "1. Write a simple program in HTML  that displays the heading \"HTML defines the content and structure of\n",
        "your website” on the web browser.\n"
      ],
      "metadata": {
        "id": "_Ra7mFkEDSbW"
      }
    },
    {
      "cell_type": "markdown",
      "source": [
        "Answer:-\n"
      ],
      "metadata": {
        "id": "6qdbu-6MDaHv"
      }
    },
    {
      "cell_type": "code",
      "source": [
        "from IPython.display import HTML\n",
        "html_code = \"\"\"\n",
        "<html>\n",
        "<head>\n",
        "    <title>My Website</title>\n",
        "</head>\n",
        "<body>\n",
        "    <h1>\"HTML defines the content and structure of your website.\"</h1>\n",
        "</body>\n",
        "</html>\n",
        "\"\"\"\n",
        "display(HTML(html_code))\n",
        "\n"
      ],
      "metadata": {
        "colab": {
          "base_uri": "https://localhost:8080/",
          "height": 74
        },
        "id": "wPcLCVboDdgn",
        "outputId": "5836f5c1-d47d-4283-a5c1-edcf46b27543"
      },
      "execution_count": 6,
      "outputs": [
        {
          "output_type": "display_data",
          "data": {
            "text/plain": [
              "<IPython.core.display.HTML object>"
            ],
            "text/html": [
              "\n",
              "<html>\n",
              "<head>\n",
              "    <title>My Website</title>\n",
              "</head>\n",
              "<body>\n",
              "    <h1>\"HTML defines the content and structure of your website.\"</h1>\n",
              "</body>\n",
              "</html>\n"
            ]
          },
          "metadata": {}
        }
      ]
    },
    {
      "cell_type": "markdown",
      "source": [
        "2. Explain the purpose of comments in HTML and provide an example of how to use comments in an HTML\n",
        "document.\n",
        "\n"
      ],
      "metadata": {
        "id": "Sy_S-mA0EzL3"
      }
    },
    {
      "cell_type": "markdown",
      "source": [
        "Answer:-  HTML comments are used to add notes or explanations in the HTML code that are not displayed by the browser.\n",
        "Purpose of html comments are as follows:-\n",
        "\n",
        "\n",
        "- They are useful for documenting the code, making it easier to understand and maintain.\n",
        "- To add a comment, use the syntax <!– your comment here –>.\n",
        "- Comments can include reminders, warnings, or explanations about the code, which can be useful for anyone reading or editing the HTML document.\n",
        "Example of how to use commments in html document:"
      ],
      "metadata": {
        "id": "i_sA0X0aOhn0"
      }
    },
    {
      "cell_type": "markdown",
      "source": [
        "Example of how to use comments in HTML document is following:"
      ],
      "metadata": {
        "id": "XWzZDZ1tSUNB"
      }
    },
    {
      "cell_type": "code",
      "source": [
        "from IPython.display import HTML\n",
        "\n",
        "html_code = \"\"\"\n",
        "<!DOCTYPE html>\n",
        "<html>\n",
        "<head>\n",
        "    <title>Example with Comments</title>\n",
        "</head>\n",
        "<body>\n",
        "    <h1>This is a heading</h1>\n",
        "    <!-- This is a single-line comment explaining the purpose of the heading -->\n",
        "    <p>This paragraph will be displayed on the page.</p>\n",
        "\n",
        "    <!-- This is a multi-line comment where we can add more detailed information -->\n",
        "    <div class=\"special-section\">\n",
        "        <p>This section has a special style applied.</p>\n",
        "    </div>\n",
        "</body>\n",
        "</html>\n",
        "\"\"\"\n",
        "display(HTML(html_code))"
      ],
      "metadata": {
        "colab": {
          "base_uri": "https://localhost:8080/",
          "height": 123
        },
        "id": "F4_R9xTXQ003",
        "outputId": "5111b6ff-6854-4661-97c8-b0554508e6e2"
      },
      "execution_count": 16,
      "outputs": [
        {
          "output_type": "display_data",
          "data": {
            "text/plain": [
              "<IPython.core.display.HTML object>"
            ],
            "text/html": [
              "\n",
              "<!DOCTYPE html>\n",
              "<html>\n",
              "<head>\n",
              "    <title>Example with Comments</title>\n",
              "</head>\n",
              "<body>\n",
              "    <h1>This is a heading</h1> \n",
              "    <!-- This is a single-line comment explaining the purpose of the heading -->\n",
              "    <p>This paragraph will be displayed on the page.</p>\n",
              "    \n",
              "    <!-- This is a multi-line comment where we can add more detailed information -->\n",
              "    <div class=\"special-section\"> \n",
              "        <p>This section has a special style applied.</p> \n",
              "    </div>\n",
              "</body>\n",
              "</html>\n"
            ]
          },
          "metadata": {}
        }
      ]
    },
    {
      "cell_type": "markdown",
      "source": [
        "3.  Write an HTML program that includes a heading, a paragraph of text, a horizontal line, and a line break. Arrange these elements to create a simple web page layout."
      ],
      "metadata": {
        "id": "te3qzjF0Sfwm"
      }
    },
    {
      "cell_type": "code",
      "source": [
        "from IPython.display import HTML\n",
        "\n",
        "html_code = \"\"\"\n",
        "<!DOCTYPE html>\n",
        "<html lang=\"en\">\n",
        "<head>\n",
        "    <meta charset=\"UTF-8\">\n",
        "    <meta name=\"viewport\" content=\"width=device-width, initial-scale=1.0\">\n",
        "    <link rel=\"stylesheet\" href=\"html.css\">\n",
        "    <title>Use of HTML elements</title>\n",
        "</head>\n",
        "<body>\n",
        "    <h1>Html</h1>\n",
        "    <hr>\n",
        "    <p>HTML elements are the building blocks of web pages that structure and define the content. They are used to represent different parts of a web page, such as paragraphs, images, and links. </p>\n",
        "\n",
        "</body>\n",
        "</html>\n",
        "\"\"\"\n",
        "display(HTML(html_code))"
      ],
      "metadata": {
        "colab": {
          "resources": {
            "http://localhost:8080/html.css": {
              "data": "",
              "ok": false,
              "headers": [
                [
                  "content-length",
                  "0"
                ]
              ],
              "status": 404,
              "status_text": ""
            }
          },
          "base_uri": "https://localhost:8080/",
          "height": 127
        },
        "id": "KV8yZ7R9SraD",
        "outputId": "2b489547-9449-45cd-a6bb-487a8dbced87"
      },
      "execution_count": 22,
      "outputs": [
        {
          "output_type": "display_data",
          "data": {
            "text/plain": [
              "<IPython.core.display.HTML object>"
            ],
            "text/html": [
              "\n",
              "<!DOCTYPE html>\n",
              "<html lang=\"en\">\n",
              "<head>\n",
              "    <meta charset=\"UTF-8\">\n",
              "    <meta name=\"viewport\" content=\"width=device-width, initial-scale=1.0\">\n",
              "    <link rel=\"stylesheet\" href=\"html.css\">\n",
              "    <title>Use of HTML elements</title>\n",
              "</head>\n",
              "<body>\n",
              "    <h1>Html</h1>\n",
              "    <hr>\n",
              "    <p>HTML elements are the building blocks of web pages that structure and define the content. They are used to represent different parts of a web page, such as paragraphs, images, and links. </p>\n",
              "    \n",
              "</body>\n",
              "</html>\n"
            ]
          },
          "metadata": {}
        }
      ]
    },
    {
      "cell_type": "markdown",
      "source": [
        "4. Write a short note on Tag and element with an example."
      ],
      "metadata": {
        "id": "pQPAaRR6bS9W"
      }
    },
    {
      "cell_type": "markdown",
      "source": [
        "Answer:- Notes on tags:\n",
        "\n",
        "HTML Tags are the starting and ending parts of an HTML element. They begin with < symbol and end with > symbol. Whatever is written inside < and > are called tags.\n",
        "\n",
        "- HTML tags are used to hold the HTML element.\n",
        "- HTML tag starts with < and ends with >.\n",
        "- HTML tags are almost like keywords where every single tag has unique meaning.\n",
        "- Tags define the type of HTML element (e.g., heading, paragraph)."
      ],
      "metadata": {
        "id": "N745UTF-bXQS"
      }
    },
    {
      "cell_type": "code",
      "source": [
        "# example of html tags\n",
        "from IPython.display import HTML\n",
        "\n",
        "html_code = \"\"\"\n",
        "<html>\n",
        "<body>\n",
        "\n",
        "<h1>My First Heading</h1>\n",
        "<p>My first paragraph.</p>\n",
        "\n",
        "</body>\n",
        "</html>\n",
        "\"\"\"\n",
        "display(HTML(html_code))"
      ],
      "metadata": {
        "colab": {
          "base_uri": "https://localhost:8080/",
          "height": 100
        },
        "id": "9XdC09puc8Sl",
        "outputId": "6ef98449-1822-4515-a993-f89a10c7cf81"
      },
      "execution_count": 15,
      "outputs": [
        {
          "output_type": "display_data",
          "data": {
            "text/plain": [
              "<IPython.core.display.HTML object>"
            ],
            "text/html": [
              "\n",
              "<html>\n",
              "<body>\n",
              "\n",
              "<h1>My First Heading</h1>\n",
              "<p>My first paragraph.</p>\n",
              "\n",
              "</body>\n",
              "</html>\n"
            ]
          },
          "metadata": {}
        }
      ]
    },
    {
      "cell_type": "markdown",
      "source": [
        "Notes on elements:\n",
        "\n",
        "The HTML element consists of both the opening and closing tags as well as what’s inside those tags. It normally consists of some structure that’s used to define the respective tags.\n",
        "\n",
        "- HTML element holds the content.\n",
        "- Whatever written within a HTML tag are HTML elements.\n",
        "- HTML elements specifies the general content.\n",
        "- Elements represent the complete, functional unit on a webpage.\n",
        "\n",
        "\n",
        "\n"
      ],
      "metadata": {
        "id": "3ltkegf5d5ii"
      }
    },
    {
      "cell_type": "code",
      "source": [
        "# example of html elements\n",
        "from IPython.display import HTML\n",
        "\n",
        "html_code = \"<b>This is the content.</b>\"\n",
        "display(HTML(html_code))"
      ],
      "metadata": {
        "colab": {
          "base_uri": "https://localhost:8080/",
          "height": 34
        },
        "id": "d0i6X7U4eiWG",
        "outputId": "6b7cb126-683b-4e21-bb2f-a0268a5f30d8"
      },
      "execution_count": 18,
      "outputs": [
        {
          "output_type": "display_data",
          "data": {
            "text/plain": [
              "<IPython.core.display.HTML object>"
            ],
            "text/html": [
              "<b>This is the content.</b>"
            ]
          },
          "metadata": {}
        }
      ]
    },
    {
      "cell_type": "markdown",
      "source": [
        "5. What is the DOCTYPE Declaration in HTML?\n"
      ],
      "metadata": {
        "id": "ztC123y3E4Z8"
      }
    },
    {
      "cell_type": "markdown",
      "source": [
        "Answer:- HTML DOCTYPE (Document Type Declaration) is an instruction that appears at the beginning of an HTML document, before the <html> tag.\n",
        "\n",
        "Its primary role is to tell the web browser which version of HTML the page is written in, ensuring that the browser renders the content correctly. It is not an HTML tag, but rather a special instruction that specifies how the browser should interpret the HTML.\n",
        "\n",
        "\n",
        "Example:-"
      ],
      "metadata": {
        "id": "fQSEPjwwOl7O"
      }
    },
    {
      "cell_type": "code",
      "source": [
        "from IPython.display import HTML\n",
        "\n",
        "html_code = \"\"\"\n",
        "<html>\n",
        "<head>\n",
        "    <title>My Website</title>\n",
        "</head>\n",
        "<body>\n",
        "    <p>HTML DOCTYPE Declaration</p>\n",
        "</body>\n",
        "</html>\n",
        "\"\"\"\n",
        "display(HTML(html_code))"
      ],
      "metadata": {
        "colab": {
          "base_uri": "https://localhost:8080/",
          "height": 46
        },
        "id": "hhsZ4MVNOv-V",
        "outputId": "a9445e58-26cc-403f-fa6b-161b7d2dadb8"
      },
      "execution_count": 10,
      "outputs": [
        {
          "output_type": "display_data",
          "data": {
            "text/plain": [
              "<IPython.core.display.HTML object>"
            ],
            "text/html": [
              "\n",
              "<html>\n",
              "<head>\n",
              "    <title>My Website</title>\n",
              "</head>\n",
              "<body>\n",
              "    <p>HTML DOCTYPE Declaration</p>\n",
              "</body>\n",
              "</html>\n"
            ]
          },
          "metadata": {}
        }
      ]
    }
  ]
}